{
 "cells": [
  {
   "cell_type": "code",
   "execution_count": 1,
   "metadata": {},
   "outputs": [],
   "source": [
    "import pandas as pd\n",
    "import numpy as np\n",
    "import random\n",
    "\n",
    "movies = pd.read_csv(\"movieData/movies.csv\")\n",
    "\n",
    "ratings = pd.read_csv(\"movieData/ratings.csv\")"
   ]
  },
  {
   "cell_type": "code",
   "execution_count": 2,
   "metadata": {},
   "outputs": [],
   "source": [
    "movies.set_index(\"movieId\", inplace=True)\n",
    "\n",
    "counts = ratings[\"movieId\"].value_counts()\n",
    "\n",
    "movies[\"ratingsCount\"] = counts"
   ]
  },
  {
   "cell_type": "code",
   "execution_count": 3,
   "metadata": {},
   "outputs": [],
   "source": [
    "averageRatings = ratings.groupby(\"movieId\").mean()[\"rating\"]\n",
    "\n",
    "movies[\"averageRatings\"] = averageRatings"
   ]
  },
  {
   "cell_type": "code",
   "execution_count": 4,
   "metadata": {},
   "outputs": [],
   "source": [
    "movies.sort_values([\"ratingsCount\", \"averageRatings\"], ascending=False)\n",
    "\n",
    "minimumRatingsSubset = movies.query(f\"ratingsCount >= 100\").sort_values(\"averageRatings\", ascending=False)\n",
    "\n",
    "SAMPLE_USER = 1"
   ]
  },
  {
   "cell_type": "code",
   "execution_count": 5,
   "metadata": {},
   "outputs": [],
   "source": [
    "def findUserRatings(userId):\n",
    "  \n",
    "  userRatings = ratings.query(f\"userId == {userId}\")\n",
    "  \n",
    "  return userRatings[[\"movieId\", \"rating\"]].set_index(\"movieId\")"
   ]
  },
  {
   "cell_type": "code",
   "execution_count": 6,
   "metadata": {},
   "outputs": [],
   "source": [
    "def calculateDistance(user_1, user_2):\n",
    "  \n",
    "  user1_ratings = findUserRatings(user_1)\n",
    "  user2_ratings = findUserRatings(user_2)\n",
    "  \n",
    "  ratingsComparison = user1_ratings.join(user2_ratings, \n",
    "                                         lsuffix=\"_user1\", \n",
    "                                         rsuffix=\"_user2\").dropna()\n",
    "  \n",
    "  user1_compared = ratingsComparison[\"rating_user1\"]\n",
    "  user2_compared = ratingsComparison[\"rating_user2\"]\n",
    "\n",
    "  distance = np.linalg.norm(user1_compared - user2_compared)\n",
    "  \n",
    "  return [user_1, user_2, distance]"
   ]
  },
  {
   "cell_type": "code",
   "execution_count": 7,
   "metadata": {},
   "outputs": [],
   "source": [
    "def findRelativeDistances(userId):\n",
    "  \n",
    "  users = ratings[\"userId\"].unique()\n",
    "  \n",
    "  users = users[users != userId]\n",
    "  \n",
    "  distances = [calculateDistance(userId, everyId) for everyId in users]\n",
    "  \n",
    "  return pd.DataFrame(distances, columns=[\"comparedUserId\", \"userId\", \"distance\"])"
   ]
  },
  {
   "cell_type": "code",
   "execution_count": 8,
   "metadata": {},
   "outputs": [],
   "source": [
    "def findClosestUsers(userId):\n",
    "  distancesToUser = findRelativeDistances(userId)\n",
    "  \n",
    "  distancesToUser = distancesToUser.sort_values(\"distance\")\n",
    "  \n",
    "  return distancesToUser"
   ]
  },
  {
   "cell_type": "code",
   "execution_count": 9,
   "metadata": {},
   "outputs": [],
   "source": [
    "def makeRecommendation(userId):\n",
    "  \n",
    "  userRatings = findUserRatings(userId)\n",
    "  \n",
    "  similarUsers = findClosestUsers(userId)\n",
    "  \n",
    "  mostSimilarId = similarUsers.iloc[0]\n",
    "  \n",
    "  mostSimilarUserRatings = findUserRatings(mostSimilarId.name)\n",
    "  \n",
    "  unwatchedMovies = mostSimilarUserRatings.drop(userRatings.index,\n",
    "                                                errors=\"ignore\")\n",
    "  \n",
    "  unwatchedMovies.sort_values(\"rating\", ascending=False)\n",
    "  \n",
    "  recommendations = unwatchedMovies.join(movies)\n",
    "  \n",
    "  return recommendations"
   ]
  },
  {
   "cell_type": "code",
   "execution_count": 10,
   "metadata": {},
   "outputs": [],
   "source": [
    "NumberOfNeighbors = 5\n",
    "\n",
    "def findKNearestNeighbors(userId, k = NumberOfNeighbors):\n",
    "  \n",
    "  distancesToUser = findRelativeDistances(userId)\n",
    "  \n",
    "  distancesToUser = distancesToUser.sort_values(\"distance\")\n",
    "  \n",
    "  distancesToUser = distancesToUser.set_index(\"userId\")\n",
    "  \n",
    "  return distancesToUser.head(k)"
   ]
  },
  {
   "cell_type": "code",
   "execution_count": 11,
   "metadata": {},
   "outputs": [],
   "source": [
    "def makeKNNRecommendation(userId):\n",
    "  \n",
    "  topNeighbors = findKNearestNeighbors(userId)\n",
    "  \n",
    "  ratingsByIndex = ratings.set_index(\"userId\")\n",
    "  \n",
    "  topSimilarRatings = ratingsByIndex.loc[topNeighbors.index]\n",
    "  \n",
    "  topSimilarRatingAverage = topSimilarRatings.groupby(\"movieId\").mean()[[\"rating\"]]\n",
    "  \n",
    "  recommended_movie = topSimilarRatingAverage.sort_values(\"rating\", ascending=False)\n",
    "  \n",
    "  return recommended_movie.join(movies)"
   ]
  },
  {
   "cell_type": "code",
   "execution_count": 12,
   "metadata": {},
   "outputs": [],
   "source": [
    "NumberOfMovies = 15\n",
    "\n",
    "minIndex = 1\n",
    "\n",
    "maxIndex = movies.shape[0]\n",
    "\n",
    "testUserWatchedMovies = []\n",
    "\n",
    "for i in range(0, NumberOfMovies):\n",
    "  \n",
    "  randomMovieIndex = random.randint(minIndex, maxIndex)\n",
    "  \n",
    "  testUserWatchedMovies.append(randomMovieIndex)\n",
    "\n",
    "minimumRating = 0\n",
    "\n",
    "maximumRating = 5\n",
    "\n",
    "testUserRatings = []\n",
    "\n",
    "for index in range(0, NumberOfMovies):\n",
    "  \n",
    "  random_rating = random.randint(minimumRating, maximumRating)\n",
    "  \n",
    "  testUserRatings.append(random_rating)\n",
    "  \n",
    "user_data = [list(index) for index in zip(testUserWatchedMovies, testUserRatings)]"
   ]
  },
  {
   "cell_type": "code",
   "execution_count": 13,
   "metadata": {},
   "outputs": [
    {
     "data": {
      "application/vnd.microsoft.datawrangler.viewer.v0+json": {
       "columns": [
        {
         "name": "index",
         "rawType": "int64",
         "type": "integer"
        },
        {
         "name": "userId",
         "rawType": "int64",
         "type": "integer"
        },
        {
         "name": "movieId",
         "rawType": "int64",
         "type": "integer"
        },
        {
         "name": "rating",
         "rawType": "float64",
         "type": "float"
        },
        {
         "name": "timestamp",
         "rawType": "float64",
         "type": "float"
        }
       ],
       "conversionMethod": "pd.DataFrame",
       "ref": "24ca8bf4-155d-49f4-9abe-b2cdde09fcc4",
       "rows": [
        [
         "0",
         "1",
         "1",
         "4.0",
         "964982703.0"
        ],
        [
         "1",
         "1",
         "3",
         "4.0",
         "964981247.0"
        ],
        [
         "2",
         "1",
         "6",
         "4.0",
         "964982224.0"
        ],
        [
         "3",
         "1",
         "47",
         "5.0",
         "964983815.0"
        ],
        [
         "4",
         "1",
         "50",
         "5.0",
         "964982931.0"
        ],
        [
         "5",
         "1",
         "70",
         "3.0",
         "964982400.0"
        ],
        [
         "6",
         "1",
         "101",
         "5.0",
         "964980868.0"
        ],
        [
         "7",
         "1",
         "110",
         "4.0",
         "964982176.0"
        ],
        [
         "8",
         "1",
         "151",
         "5.0",
         "964984041.0"
        ],
        [
         "9",
         "1",
         "157",
         "5.0",
         "964984100.0"
        ],
        [
         "10",
         "1",
         "163",
         "5.0",
         "964983650.0"
        ],
        [
         "11",
         "1",
         "216",
         "5.0",
         "964981208.0"
        ],
        [
         "12",
         "1",
         "223",
         "3.0",
         "964980985.0"
        ],
        [
         "13",
         "1",
         "231",
         "5.0",
         "964981179.0"
        ],
        [
         "14",
         "1",
         "235",
         "4.0",
         "964980908.0"
        ],
        [
         "15",
         "1",
         "260",
         "5.0",
         "964981680.0"
        ],
        [
         "16",
         "1",
         "296",
         "3.0",
         "964982967.0"
        ],
        [
         "17",
         "1",
         "316",
         "3.0",
         "964982310.0"
        ],
        [
         "18",
         "1",
         "333",
         "5.0",
         "964981179.0"
        ],
        [
         "19",
         "1",
         "349",
         "4.0",
         "964982563.0"
        ],
        [
         "20",
         "1",
         "356",
         "4.0",
         "964980962.0"
        ],
        [
         "21",
         "1",
         "362",
         "5.0",
         "964982588.0"
        ],
        [
         "22",
         "1",
         "367",
         "4.0",
         "964981710.0"
        ],
        [
         "23",
         "1",
         "423",
         "3.0",
         "964982363.0"
        ],
        [
         "24",
         "1",
         "441",
         "4.0",
         "964980868.0"
        ],
        [
         "25",
         "1",
         "457",
         "5.0",
         "964981909.0"
        ],
        [
         "26",
         "1",
         "480",
         "4.0",
         "964982346.0"
        ],
        [
         "27",
         "1",
         "500",
         "3.0",
         "964981208.0"
        ],
        [
         "28",
         "1",
         "527",
         "5.0",
         "964984002.0"
        ],
        [
         "29",
         "1",
         "543",
         "4.0",
         "964981179.0"
        ],
        [
         "30",
         "1",
         "552",
         "4.0",
         "964982653.0"
        ],
        [
         "31",
         "1",
         "553",
         "5.0",
         "964984153.0"
        ],
        [
         "32",
         "1",
         "590",
         "4.0",
         "964982546.0"
        ],
        [
         "33",
         "1",
         "592",
         "4.0",
         "964982271.0"
        ],
        [
         "34",
         "1",
         "593",
         "4.0",
         "964983793.0"
        ],
        [
         "35",
         "1",
         "596",
         "5.0",
         "964982838.0"
        ],
        [
         "36",
         "1",
         "608",
         "5.0",
         "964982931.0"
        ],
        [
         "37",
         "1",
         "648",
         "3.0",
         "964982563.0"
        ],
        [
         "38",
         "1",
         "661",
         "5.0",
         "964982838.0"
        ],
        [
         "39",
         "1",
         "673",
         "3.0",
         "964981775.0"
        ],
        [
         "40",
         "1",
         "733",
         "4.0",
         "964982400.0"
        ],
        [
         "41",
         "1",
         "736",
         "3.0",
         "964982653.0"
        ],
        [
         "42",
         "1",
         "780",
         "3.0",
         "964984086.0"
        ],
        [
         "43",
         "1",
         "804",
         "4.0",
         "964980499.0"
        ],
        [
         "44",
         "1",
         "919",
         "5.0",
         "964982475.0"
        ],
        [
         "45",
         "1",
         "923",
         "5.0",
         "964981529.0"
        ],
        [
         "46",
         "1",
         "940",
         "5.0",
         "964982176.0"
        ],
        [
         "47",
         "1",
         "943",
         "4.0",
         "964983614.0"
        ],
        [
         "48",
         "1",
         "954",
         "5.0",
         "964983219.0"
        ],
        [
         "49",
         "1",
         "1009",
         "3.0",
         "964981775.0"
        ]
       ],
       "shape": {
        "columns": 4,
        "rows": 100851
       }
      },
      "text/html": [
       "<div>\n",
       "<style scoped>\n",
       "    .dataframe tbody tr th:only-of-type {\n",
       "        vertical-align: middle;\n",
       "    }\n",
       "\n",
       "    .dataframe tbody tr th {\n",
       "        vertical-align: top;\n",
       "    }\n",
       "\n",
       "    .dataframe thead th {\n",
       "        text-align: right;\n",
       "    }\n",
       "</style>\n",
       "<table border=\"1\" class=\"dataframe\">\n",
       "  <thead>\n",
       "    <tr style=\"text-align: right;\">\n",
       "      <th></th>\n",
       "      <th>userId</th>\n",
       "      <th>movieId</th>\n",
       "      <th>rating</th>\n",
       "      <th>timestamp</th>\n",
       "    </tr>\n",
       "  </thead>\n",
       "  <tbody>\n",
       "    <tr>\n",
       "      <th>0</th>\n",
       "      <td>1</td>\n",
       "      <td>1</td>\n",
       "      <td>4.0</td>\n",
       "      <td>964982703.0</td>\n",
       "    </tr>\n",
       "    <tr>\n",
       "      <th>1</th>\n",
       "      <td>1</td>\n",
       "      <td>3</td>\n",
       "      <td>4.0</td>\n",
       "      <td>964981247.0</td>\n",
       "    </tr>\n",
       "    <tr>\n",
       "      <th>2</th>\n",
       "      <td>1</td>\n",
       "      <td>6</td>\n",
       "      <td>4.0</td>\n",
       "      <td>964982224.0</td>\n",
       "    </tr>\n",
       "    <tr>\n",
       "      <th>3</th>\n",
       "      <td>1</td>\n",
       "      <td>47</td>\n",
       "      <td>5.0</td>\n",
       "      <td>964983815.0</td>\n",
       "    </tr>\n",
       "    <tr>\n",
       "      <th>4</th>\n",
       "      <td>1</td>\n",
       "      <td>50</td>\n",
       "      <td>5.0</td>\n",
       "      <td>964982931.0</td>\n",
       "    </tr>\n",
       "    <tr>\n",
       "      <th>...</th>\n",
       "      <td>...</td>\n",
       "      <td>...</td>\n",
       "      <td>...</td>\n",
       "      <td>...</td>\n",
       "    </tr>\n",
       "    <tr>\n",
       "      <th>10</th>\n",
       "      <td>611</td>\n",
       "      <td>8197</td>\n",
       "      <td>3.0</td>\n",
       "      <td>NaN</td>\n",
       "    </tr>\n",
       "    <tr>\n",
       "      <th>11</th>\n",
       "      <td>611</td>\n",
       "      <td>9475</td>\n",
       "      <td>5.0</td>\n",
       "      <td>NaN</td>\n",
       "    </tr>\n",
       "    <tr>\n",
       "      <th>12</th>\n",
       "      <td>611</td>\n",
       "      <td>6068</td>\n",
       "      <td>3.0</td>\n",
       "      <td>NaN</td>\n",
       "    </tr>\n",
       "    <tr>\n",
       "      <th>13</th>\n",
       "      <td>611</td>\n",
       "      <td>6500</td>\n",
       "      <td>0.0</td>\n",
       "      <td>NaN</td>\n",
       "    </tr>\n",
       "    <tr>\n",
       "      <th>14</th>\n",
       "      <td>611</td>\n",
       "      <td>1879</td>\n",
       "      <td>5.0</td>\n",
       "      <td>NaN</td>\n",
       "    </tr>\n",
       "  </tbody>\n",
       "</table>\n",
       "<p>100851 rows × 4 columns</p>\n",
       "</div>"
      ],
      "text/plain": [
       "    userId  movieId  rating    timestamp\n",
       "0        1        1     4.0  964982703.0\n",
       "1        1        3     4.0  964981247.0\n",
       "2        1        6     4.0  964982224.0\n",
       "3        1       47     5.0  964983815.0\n",
       "4        1       50     5.0  964982931.0\n",
       "..     ...      ...     ...          ...\n",
       "10     611     8197     3.0          NaN\n",
       "11     611     9475     5.0          NaN\n",
       "12     611     6068     3.0          NaN\n",
       "13     611     6500     0.0          NaN\n",
       "14     611     1879     5.0          NaN\n",
       "\n",
       "[100851 rows x 4 columns]"
      ]
     },
     "execution_count": 13,
     "metadata": {},
     "output_type": "execute_result"
    }
   ],
   "source": [
    "def addTestUserToDataframe(user_data):\n",
    "  \n",
    "  newId = ratings[\"userId\"].max()+1\n",
    "  \n",
    "  newUserDataframe = pd.DataFrame(user_data, columns=[\"movieId\", \"rating\"])\n",
    "  \n",
    "  newUserDataframe[\"userId\"] = newId\n",
    "  \n",
    "  return pd.concat([ratings, newUserDataframe])\n",
    "\n",
    "addTestUserToDataframe(user_data)"
   ]
  },
  {
   "cell_type": "code",
   "execution_count": 14,
   "metadata": {},
   "outputs": [
    {
     "data": {
      "application/vnd.microsoft.datawrangler.viewer.v0+json": {
       "columns": [
        {
         "name": "movieId",
         "rawType": "int64",
         "type": "integer"
        },
        {
         "name": "rating",
         "rawType": "float64",
         "type": "float"
        },
        {
         "name": "title",
         "rawType": "object",
         "type": "string"
        },
        {
         "name": "genres",
         "rawType": "object",
         "type": "string"
        },
        {
         "name": "ratingsCount",
         "rawType": "float64",
         "type": "float"
        },
        {
         "name": "averageRatings",
         "rawType": "float64",
         "type": "float"
        }
       ],
       "conversionMethod": "pd.DataFrame",
       "ref": "97609288-399e-49e2-b3c4-55b0e5032073",
       "rows": [
        [
         "63082",
         "5.0",
         "Slumdog Millionaire (2008)",
         "Crime|Drama|Romance",
         "71.0",
         "3.8098591549295775"
        ],
        [
         "2403",
         "5.0",
         "First Blood (Rambo: First Blood) (1982)",
         "Action|Adventure|Drama|Thriller",
         "30.0",
         "3.55"
        ],
        [
         "2572",
         "5.0",
         "10 Things I Hate About You (1999)",
         "Comedy|Romance",
         "54.0",
         "3.5277777777777777"
        ],
        [
         "2571",
         "5.0",
         "Matrix, The (1999)",
         "Action|Sci-Fi|Thriller",
         "278.0",
         "4.192446043165468"
        ],
        [
         "53996",
         "5.0",
         "Transformers (2007)",
         "Action|Sci-Fi|Thriller|IMAX",
         "39.0",
         "3.3461538461538463"
        ],
        [
         "2360",
         "5.0",
         "Celebration, The (Festen) (1998)",
         "Drama",
         "12.0",
         "4.458333333333333"
        ],
        [
         "2398",
         "5.0",
         "Miracle on 34th Street (1947)",
         "Comedy|Drama",
         "17.0",
         "4.0588235294117645"
        ],
        [
         "2502",
         "5.0",
         "Office Space (1999)",
         "Comedy|Crime",
         "94.0",
         "4.090425531914893"
        ],
        [
         "2490",
         "5.0",
         "Payback (1999)",
         "Action|Thriller",
         "45.0",
         "3.422222222222222"
        ],
        [
         "7099",
         "5.0",
         "Nausicaä of the Valley of the Wind (Kaze no tani no Naushika) (1984)",
         "Adventure|Animation|Drama|Fantasy|Sci-Fi",
         "23.0",
         "4.0"
        ],
        [
         "1748",
         "5.0",
         "Dark City (1998)",
         "Adventure|Film-Noir|Sci-Fi|Thriller",
         "48.0",
         "3.8229166666666665"
        ],
        [
         "1982",
         "5.0",
         "Halloween (1978)",
         "Horror",
         "27.0",
         "3.7222222222222223"
        ],
        [
         "1974",
         "5.0",
         "Friday the 13th (1980)",
         "Horror|Mystery|Thriller",
         "16.0",
         "2.875"
        ],
        [
         "2010",
         "5.0",
         "Metropolis (1927)",
         "Drama|Sci-Fi",
         "21.0",
         "3.857142857142857"
        ],
        [
         "2324",
         "5.0",
         "Life Is Beautiful (La Vita è bella) (1997)",
         "Comedy|Drama|Romance|War",
         "88.0",
         "4.1477272727272725"
        ],
        [
         "2881",
         "5.0",
         "Double Jeopardy (1999)",
         "Action|Crime|Drama|Thriller",
         "19.0",
         "3.026315789473684"
        ],
        [
         "2268",
         "5.0",
         "Few Good Men, A (1992)",
         "Crime|Drama|Thriller",
         "57.0",
         "3.789473684210526"
        ],
        [
         "3020",
         "5.0",
         "Falling Down (1993)",
         "Action|Drama",
         "17.0",
         "3.5294117647058822"
        ],
        [
         "7767",
         "5.0",
         "Best of Youth, The (La meglio gioventù) (2003)",
         "Drama",
         "2.0",
         "4.75"
        ],
        [
         "7439",
         "5.0",
         "Punisher, The (2004)",
         "Action|Crime|Thriller",
         "14.0",
         "3.5"
        ],
        [
         "2959",
         "5.0",
         "Fight Club (1999)",
         "Action|Crime|Drama|Thriller",
         "218.0",
         "4.272935779816514"
        ],
        [
         "7579",
         "5.0",
         "Pride and Prejudice (1940)",
         "Comedy|Drama|Romance",
         "3.0",
         "3.6666666666666665"
        ],
        [
         "3083",
         "5.0",
         "All About My Mother (Todo sobre mi madre) (1999)",
         "Drama",
         "19.0",
         "4.157894736842105"
        ],
        [
         "232",
         "5.0",
         "Eat Drink Man Woman (Yin shi nan nu) (1994)",
         "Comedy|Drama|Romance",
         "14.0",
         "3.892857142857143"
        ],
        [
         "3476",
         "5.0",
         "Jacob's Ladder (1990)",
         "Horror|Mystery",
         "26.0",
         "3.5576923076923075"
        ],
        [
         "3347",
         "5.0",
         "Never Cry Wolf (1983)",
         "Adventure|Drama",
         "9.0",
         "4.166666666666667"
        ],
        [
         "8874",
         "5.0",
         "Shaun of the Dead (2004)",
         "Comedy|Horror",
         "77.0",
         "4.0064935064935066"
        ],
        [
         "3310",
         "5.0",
         "Kid, The (1921)",
         "Comedy|Drama",
         "5.0",
         "4.1"
        ],
        [
         "1327",
         "5.0",
         "Amityville Horror, The (1979)",
         "Drama|Horror|Mystery|Thriller",
         "15.0",
         "2.6333333333333333"
        ],
        [
         "3451",
         "5.0",
         "Guess Who's Coming to Dinner (1967)",
         "Drama",
         "11.0",
         "4.545454545454546"
        ],
        [
         "1370",
         "5.0",
         "Die Hard 2 (1990)",
         "Action|Adventure|Thriller",
         "68.0",
         "3.4044117647058822"
        ],
        [
         "44555",
         "5.0",
         "Lives of Others, The (Das leben der Anderen) (2006)",
         "Drama|Romance|Thriller",
         "34.0",
         "4.117647058823529"
        ],
        [
         "8810",
         "5.0",
         "AVP: Alien vs. Predator (2004)",
         "Action|Horror|Sci-Fi|Thriller",
         "17.0",
         "2.823529411764706"
        ],
        [
         "3949",
         "5.0",
         "Requiem for a Dream (2000)",
         "Drama",
         "96.0",
         "3.921875"
        ],
        [
         "3755",
         "5.0",
         "Perfect Storm, The (2000)",
         "Drama|Thriller",
         "44.0",
         "3.1704545454545454"
        ],
        [
         "5903",
         "5.0",
         "Equilibrium (2002)",
         "Action|Sci-Fi|Thriller",
         "44.0",
         "3.875"
        ],
        [
         "898",
         "5.0",
         "Philadelphia Story, The (1940)",
         "Comedy|Drama|Romance",
         "29.0",
         "4.310344827586207"
        ],
        [
         "905",
         "5.0",
         "It Happened One Night (1934)",
         "Comedy|Romance",
         "14.0",
         "4.321428571428571"
        ],
        [
         "902",
         "5.0",
         "Breakfast at Tiffany's (1961)",
         "Drama|Romance",
         "36.0",
         "3.8472222222222223"
        ],
        [
         "994",
         "5.0",
         "Big Night (1996)",
         "Comedy|Drama",
         "11.0",
         "4.181818181818182"
        ],
        [
         "914",
         "5.0",
         "My Fair Lady (1964)",
         "Comedy|Drama|Musical|Romance",
         "35.0",
         "4.042857142857143"
        ],
        [
         "891",
         "5.0",
         "Halloween: The Curse of Michael Myers (Halloween 6: The Curse of Michael Myers) (1995)",
         "Horror|Thriller",
         "5.0",
         "3.8"
        ],
        [
         "933",
         "5.0",
         "To Catch a Thief (1955)",
         "Crime|Mystery|Romance|Thriller",
         "23.0",
         "4.217391304347826"
        ],
        [
         "931",
         "5.0",
         "Spellbound (1945)",
         "Mystery|Romance|Thriller",
         "9.0",
         "3.8333333333333335"
        ],
        [
         "31696",
         "5.0",
         "Constantine (2005)",
         "Action|Fantasy|Horror|Thriller",
         "35.0",
         "3.4714285714285715"
        ],
        [
         "910",
         "5.0",
         "Some Like It Hot (1959)",
         "Comedy|Crime",
         "50.0",
         "4.01"
        ],
        [
         "798",
         "5.0",
         "Daylight (1996)",
         "Action|Adventure|Drama|Thriller",
         "12.0",
         "2.7083333333333335"
        ],
        [
         "27815",
         "5.0",
         "Chorus, The (Choristes, Les) (2004)",
         "Drama",
         "11.0",
         "3.909090909090909"
        ],
        [
         "611",
         "5.0",
         "Hellraiser: Bloodline (1996)",
         "Action|Horror|Sci-Fi",
         "6.0",
         "2.4166666666666665"
        ],
        [
         "1211",
         "5.0",
         "Wings of Desire (Himmel über Berlin, Der) (1987)",
         "Drama|Fantasy|Romance",
         "13.0",
         "3.8846153846153846"
        ]
       ],
       "shape": {
        "columns": 5,
        "rows": 1885
       }
      },
      "text/html": [
       "<div>\n",
       "<style scoped>\n",
       "    .dataframe tbody tr th:only-of-type {\n",
       "        vertical-align: middle;\n",
       "    }\n",
       "\n",
       "    .dataframe tbody tr th {\n",
       "        vertical-align: top;\n",
       "    }\n",
       "\n",
       "    .dataframe thead th {\n",
       "        text-align: right;\n",
       "    }\n",
       "</style>\n",
       "<table border=\"1\" class=\"dataframe\">\n",
       "  <thead>\n",
       "    <tr style=\"text-align: right;\">\n",
       "      <th></th>\n",
       "      <th>rating</th>\n",
       "      <th>title</th>\n",
       "      <th>genres</th>\n",
       "      <th>ratingsCount</th>\n",
       "      <th>averageRatings</th>\n",
       "    </tr>\n",
       "    <tr>\n",
       "      <th>movieId</th>\n",
       "      <th></th>\n",
       "      <th></th>\n",
       "      <th></th>\n",
       "      <th></th>\n",
       "      <th></th>\n",
       "    </tr>\n",
       "  </thead>\n",
       "  <tbody>\n",
       "    <tr>\n",
       "      <th>63082</th>\n",
       "      <td>5.0</td>\n",
       "      <td>Slumdog Millionaire (2008)</td>\n",
       "      <td>Crime|Drama|Romance</td>\n",
       "      <td>71.0</td>\n",
       "      <td>3.809859</td>\n",
       "    </tr>\n",
       "    <tr>\n",
       "      <th>2403</th>\n",
       "      <td>5.0</td>\n",
       "      <td>First Blood (Rambo: First Blood) (1982)</td>\n",
       "      <td>Action|Adventure|Drama|Thriller</td>\n",
       "      <td>30.0</td>\n",
       "      <td>3.550000</td>\n",
       "    </tr>\n",
       "    <tr>\n",
       "      <th>2572</th>\n",
       "      <td>5.0</td>\n",
       "      <td>10 Things I Hate About You (1999)</td>\n",
       "      <td>Comedy|Romance</td>\n",
       "      <td>54.0</td>\n",
       "      <td>3.527778</td>\n",
       "    </tr>\n",
       "    <tr>\n",
       "      <th>2571</th>\n",
       "      <td>5.0</td>\n",
       "      <td>Matrix, The (1999)</td>\n",
       "      <td>Action|Sci-Fi|Thriller</td>\n",
       "      <td>278.0</td>\n",
       "      <td>4.192446</td>\n",
       "    </tr>\n",
       "    <tr>\n",
       "      <th>53996</th>\n",
       "      <td>5.0</td>\n",
       "      <td>Transformers (2007)</td>\n",
       "      <td>Action|Sci-Fi|Thriller|IMAX</td>\n",
       "      <td>39.0</td>\n",
       "      <td>3.346154</td>\n",
       "    </tr>\n",
       "    <tr>\n",
       "      <th>...</th>\n",
       "      <td>...</td>\n",
       "      <td>...</td>\n",
       "      <td>...</td>\n",
       "      <td>...</td>\n",
       "      <td>...</td>\n",
       "    </tr>\n",
       "    <tr>\n",
       "      <th>7004</th>\n",
       "      <td>0.5</td>\n",
       "      <td>Kindergarten Cop (1990)</td>\n",
       "      <td>Action|Comedy|Crime|Thriller</td>\n",
       "      <td>17.0</td>\n",
       "      <td>2.882353</td>\n",
       "    </tr>\n",
       "    <tr>\n",
       "      <th>1681</th>\n",
       "      <td>0.5</td>\n",
       "      <td>Mortal Kombat: Annihilation (1997)</td>\n",
       "      <td>Action|Adventure|Fantasy</td>\n",
       "      <td>7.0</td>\n",
       "      <td>1.928571</td>\n",
       "    </tr>\n",
       "    <tr>\n",
       "      <th>4678</th>\n",
       "      <td>0.5</td>\n",
       "      <td>UHF (1989)</td>\n",
       "      <td>Comedy</td>\n",
       "      <td>9.0</td>\n",
       "      <td>3.444444</td>\n",
       "    </tr>\n",
       "    <tr>\n",
       "      <th>4679</th>\n",
       "      <td>0.5</td>\n",
       "      <td>Uncle Buck (1989)</td>\n",
       "      <td>Comedy</td>\n",
       "      <td>13.0</td>\n",
       "      <td>2.884615</td>\n",
       "    </tr>\n",
       "    <tr>\n",
       "      <th>4733</th>\n",
       "      <td>0.5</td>\n",
       "      <td>Curse of the Jade Scorpion, The (2001)</td>\n",
       "      <td>Comedy</td>\n",
       "      <td>3.0</td>\n",
       "      <td>2.500000</td>\n",
       "    </tr>\n",
       "  </tbody>\n",
       "</table>\n",
       "<p>1885 rows × 5 columns</p>\n",
       "</div>"
      ],
      "text/plain": [
       "         rating                                    title  \\\n",
       "movieId                                                    \n",
       "63082       5.0               Slumdog Millionaire (2008)   \n",
       "2403        5.0  First Blood (Rambo: First Blood) (1982)   \n",
       "2572        5.0        10 Things I Hate About You (1999)   \n",
       "2571        5.0                       Matrix, The (1999)   \n",
       "53996       5.0                      Transformers (2007)   \n",
       "...         ...                                      ...   \n",
       "7004        0.5                  Kindergarten Cop (1990)   \n",
       "1681        0.5       Mortal Kombat: Annihilation (1997)   \n",
       "4678        0.5                               UHF (1989)   \n",
       "4679        0.5                        Uncle Buck (1989)   \n",
       "4733        0.5   Curse of the Jade Scorpion, The (2001)   \n",
       "\n",
       "                                  genres  ratingsCount  averageRatings  \n",
       "movieId                                                                 \n",
       "63082                Crime|Drama|Romance          71.0        3.809859  \n",
       "2403     Action|Adventure|Drama|Thriller          30.0        3.550000  \n",
       "2572                      Comedy|Romance          54.0        3.527778  \n",
       "2571              Action|Sci-Fi|Thriller         278.0        4.192446  \n",
       "53996        Action|Sci-Fi|Thriller|IMAX          39.0        3.346154  \n",
       "...                                  ...           ...             ...  \n",
       "7004        Action|Comedy|Crime|Thriller          17.0        2.882353  \n",
       "1681            Action|Adventure|Fantasy           7.0        1.928571  \n",
       "4678                              Comedy           9.0        3.444444  \n",
       "4679                              Comedy          13.0        2.884615  \n",
       "4733                              Comedy           3.0        2.500000  \n",
       "\n",
       "[1885 rows x 5 columns]"
      ]
     },
     "execution_count": 14,
     "metadata": {},
     "output_type": "execute_result"
    }
   ],
   "source": [
    "testUserId = 611\n",
    "\n",
    "makeKNNRecommendation(testUserId)"
   ]
  }
 ],
 "metadata": {
  "kernelspec": {
   "display_name": "Python 3",
   "language": "python",
   "name": "python3"
  },
  "language_info": {
   "codemirror_mode": {
    "name": "ipython",
    "version": 3
   },
   "file_extension": ".py",
   "mimetype": "text/x-python",
   "name": "python",
   "nbconvert_exporter": "python",
   "pygments_lexer": "ipython3",
   "version": "3.12.8"
  }
 },
 "nbformat": 4,
 "nbformat_minor": 2
}
