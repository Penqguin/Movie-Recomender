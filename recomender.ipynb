{
 "cells": [
  {
   "cell_type": "code",
   "execution_count": 16,
   "metadata": {},
   "outputs": [],
   "source": [
    "import pandas as pd\n",
    "import numpy as np\n",
    "\n",
    "movies = pd.read_csv(\"movieData/movies.csv\")\n",
    "\n",
    "ratings = pd.read_csv(\"movieData/ratings.csv\")"
   ]
  },
  {
   "cell_type": "code",
   "execution_count": 17,
   "metadata": {},
   "outputs": [],
   "source": [
    "movies.set_index(\"movieId\", inplace=True)\n",
    "\n",
    "counts = ratings[\"movieId\"].value_counts()\n",
    "\n",
    "movies[\"ratingsCount\"] = counts"
   ]
  },
  {
   "cell_type": "code",
   "execution_count": 18,
   "metadata": {},
   "outputs": [],
   "source": [
    "averageRatings = ratings.groupby(\"movieId\").mean()[\"rating\"]\n",
    "\n",
    "movies[\"averageRatings\"] = averageRatings"
   ]
  },
  {
   "cell_type": "code",
   "execution_count": 19,
   "metadata": {},
   "outputs": [],
   "source": [
    "movies.sort_values([\"ratingsCount\", \"averageRatings\"], ascending=False)\n",
    "\n",
    "minimumRatingsSubset = movies.query(f\"ratingsCount >= 100\").sort_values(\"averageRatings\", ascending=False)"
   ]
  },
  {
   "cell_type": "code",
   "execution_count": 20,
   "metadata": {},
   "outputs": [],
   "source": [
    "USER_1_POSITION_X = 3\n",
    "USER_1_POSITION_Y = 7.5\n",
    "\n",
    "USER_2_POSITION_X = 4\n",
    "USER_2_POSITION_Y = 2\n",
    "\n",
    "position_user__1 = np.array([USER_1_POSITION_X, USER_1_POSITION_Y])\n",
    "\n",
    "position_user__2 = np.array([USER_2_POSITION_X, USER_2_POSITION_Y])"
   ]
  },
  {
   "cell_type": "code",
   "execution_count": 21,
   "metadata": {},
   "outputs": [
    {
     "name": "stdout",
     "output_type": "stream",
     "text": [
      "5.5901699437494745\n"
     ]
    }
   ],
   "source": [
    "def calculateDistance(user_1, user_2):\n",
    "  (delta_x, delta_y) = user_1 - user_2\n",
    "  \n",
    "  return (delta_x ** 2 + delta_y ** 2) ** (0.5)\n",
    "\n",
    "\n",
    "distance = calculateDistance(position_user__1, position_user__2)\n",
    "print(distance)"
   ]
  }
 ],
 "metadata": {
  "kernelspec": {
   "display_name": "Python 3",
   "language": "python",
   "name": "python3"
  },
  "language_info": {
   "codemirror_mode": {
    "name": "ipython",
    "version": 3
   },
   "file_extension": ".py",
   "mimetype": "text/x-python",
   "name": "python",
   "nbconvert_exporter": "python",
   "pygments_lexer": "ipython3",
   "version": "3.12.8"
  }
 },
 "nbformat": 4,
 "nbformat_minor": 2
}
