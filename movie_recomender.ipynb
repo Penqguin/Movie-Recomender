{
 "cells": [
  {
   "cell_type": "code",
   "execution_count": 24,
   "metadata": {},
   "outputs": [
    {
     "name": "stdout",
     "output_type": "stream",
     "text": [
      "<class 'pandas.core.frame.DataFrame'>\n",
      "RangeIndex: 100836 entries, 0 to 100835\n",
      "Data columns (total 4 columns):\n",
      " #   Column     Non-Null Count   Dtype  \n",
      "---  ------     --------------   -----  \n",
      " 0   userId     100836 non-null  float64\n",
      " 1   movieId    100836 non-null  float64\n",
      " 2   rating     100836 non-null  float64\n",
      " 3   timestamp  100836 non-null  float64\n",
      "dtypes: float64(4)\n",
      "memory usage: 3.1 MB\n",
      "<class 'pandas.core.frame.DataFrame'>\n",
      "RangeIndex: 9742 entries, 0 to 9741\n",
      "Data columns (total 3 columns):\n",
      " #   Column   Non-Null Count  Dtype  \n",
      "---  ------   --------------  -----  \n",
      " 0   movieId  9742 non-null   float64\n",
      " 1   title    9742 non-null   object \n",
      " 2   genres   9742 non-null   object \n",
      "dtypes: float64(1), object(2)\n",
      "memory usage: 228.5+ KB\n",
      "['Dead Pool, The (1988)', 'Derailed (2005)', 'Open Water (2003)', 'Raw Deal (1986)', 'Return of Jafar, The (1994)', 'Willard (2003)']\n"
     ]
    }
   ],
   "source": [
    "import pandas as pd\n",
    "from sklearn.decomposition import TruncatedSVD\n",
    "import numpy as np\n",
    "\n",
    "ratings_dataframe = pd.read_csv('ratings.csv')\n",
    "\n",
    "ratings_dataframe = ratings_dataframe.astype(\"float\")\n",
    "\n",
    "ratings_dataframe.info()\n",
    "movies_dataframe = pd.read_csv('movies.csv')\n",
    "\n",
    "movies_dataframe[\"movieId\"] = movies_dataframe['movieId'].astype(str).astype(float)\n",
    "\n",
    "movies_dataframe.info()\n",
    "merged_dataframes = pd.merge(ratings_dataframe, movies_dataframe, on = 'movieId')\n",
    "\n",
    "merged_dataframes\n",
    "merged_dataframes.groupby('movieId')['rating'].count().sort_values(ascending=False)\n",
    "crosstab = merged_dataframes.pivot_table(values = 'rating',\n",
    "                             index = 'userId',\n",
    "                             columns = 'title',\n",
    "                             fill_value = 0)\n",
    "\n",
    "crosstab\n",
    "\n",
    "X = crosstab.T\n",
    "\n",
    "NUMBER_OF_COMPONENTS = 12\n",
    "\n",
    "singular_value_decomposition = TruncatedSVD(n_components = NUMBER_OF_COMPONENTS,\n",
    "                                            random_state = 1)\n",
    "\n",
    "matrix = singular_value_decomposition.fit_transform(X)\n",
    "\n",
    "correlation_matrix = np.corrcoef(matrix)\n",
    "\n",
    "correlation_matrix\n",
    "movie_titles = crosstab.columns\n",
    "\n",
    "movie_list = list(movie_titles)\n",
    "\n",
    "example_movie = movie_list.index(\"Batman: Year One (2011)\")\n",
    "\n",
    "example_correlations = correlation_matrix[example_movie]\n",
    "\n",
    "example_correlations\n",
    "MAXIMUM_CORRELATION = 1.0\n",
    "MINIMUM_CORRELATION = 0.9\n",
    "\n",
    "print(list(movie_titles[(example_correlations < MAXIMUM_CORRELATION) & (example_correlations > MINIMUM_CORRELATION)]))"
   ]
  }
 ],
 "metadata": {
  "kernelspec": {
   "display_name": "Python 3",
   "language": "python",
   "name": "python3"
  },
  "language_info": {
   "codemirror_mode": {
    "name": "ipython",
    "version": 3
   },
   "file_extension": ".py",
   "mimetype": "text/x-python",
   "name": "python",
   "nbconvert_exporter": "python",
   "pygments_lexer": "ipython3",
   "version": "3.12.8"
  }
 },
 "nbformat": 4,
 "nbformat_minor": 2
}
